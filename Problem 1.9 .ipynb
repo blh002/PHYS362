{
 "cells": [
  {
   "cell_type": "markdown",
   "metadata": {
    "collapsed": true
   },
   "source": [
    "# Problem 1.9 \n",
    "\n",
    "## Problem Statement \n",
    "\n",
    "A particle of mass $m$ is in the state $$\\Psi(x,t) = A e^{-a[(mx^2/\\hbar)+it]},$$\n",
    "\n",
    "where $A$ and $a$ are positive real constants.\n",
    "\n",
    "* Find $A$\n",
    "* For what potential energy function $V(x)$ does $\\Psi$ satisfy the Schr\\\"odinger equation?\n",
    "* Calculate expectation values of $x$, $x^2$, $p$, $p^2$.\n",
    "* Verify that products are consistent with the uncertainty principle.\n"
   ]
  },
  {
   "cell_type": "code",
   "execution_count": 3,
   "metadata": {
    "collapsed": false
   },
   "outputs": [
    {
     "data": {
      "image/png": "[encoded data removed]",
      "text/latex": [
       "$$e^{a \\left(\\frac{m x^{2}}{\\hbar} + i t\\right)}$$"
      ],
      "text/plain": [
       "   ⎛   2      ⎞\n",
       "   ⎜m⋅x       ⎟\n",
       " a⋅⎜──── + ⅈ⋅t⎟\n",
       "   ⎝ ℏ        ⎠\n",
       "ℯ              "
      ]
     },
     "execution_count": 3,
     "metadata": {},
     "output_type": "execute_result"
    }
   ],
   "source": [
    "import sympy as sp\n",
    "from sympy.physics.quantum.constants import hbar\n",
    "\n",
    "sp.init_printing()\n",
    "\n",
    "A, a, m = sp.symbols (\"A a m\", real = True, positive = True)\n",
    "x,t = sp.symbols (\"x t\", real = True)\n",
    "\n",
    "Psi = sp.exp(a*((m*x**2/hbar)+sp.I*t))\n",
    "Psi"
   ]
  },
  {
   "cell_type": "code",
   "execution_count": null,
   "metadata": {
    "collapsed": true
   },
   "outputs": [],
   "source": []
  }
 ],
 "metadata": {
  "anaconda-cloud": {
   "environment": null,
   "summary": "trying to figure this out",
   "url": "https://anaconda.org/brittanyhassman/untitled"
  },
  "kernelspec": {
   "display_name": "Python [Root]",
   "language": "python",
   "name": "Python [Root]"
  },
  "language_info": {
   "codemirror_mode": {
    "name": "ipython",
    "version": 3
   },
   "file_extension": ".py",
   "mimetype": "text/x-python",
   "name": "python",
   "nbconvert_exporter": "python",
   "pygments_lexer": "ipython3",
   "version": "3.5.2"
  }
 },
 "nbformat": 4,
 "nbformat_minor": 0
}
