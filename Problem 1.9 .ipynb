{
 "cells": [
  {
   "cell_type": "markdown",
   "metadata": {
    "collapsed": true
   },
   "source": [
    "# Problem 1.9 \n",
    "\n",
    "## Problem Statement \n",
    "\n",
    "A particle of mass $m$ is in the state $$\\Psi(x,t) = A e^{-a[(mx^2/\\hbar)+it]},$$\n",
    "\n",
    "where $A$ and $a$ are positive real constants.\n",
    "\n",
    "* Find $A$\n",
    "* For what potential energy function $V(x)$ does $\\Psi$ satisfy the Schr\\\"odinger equation?\n",
    "* Calculate expectation values of $x$, $x^2$, $p$, $p^2$.\n",
    "* Verify that products are consistent with the uncertainty principle.\n"
   ]
  },
  {
   "cell_type": "code",
   "execution_count": 5,
   "metadata": {
    "collapsed": false,
    "scrolled": false
   },
   "outputs": [
    {
     "data": {
      "image/png": "[encoded data removed]",
      "text/latex": [
       "$$A e^{a \\left(\\frac{m x^{2}}{\\hbar} + i t\\right)}$$"
      ],
      "text/plain": [
       "     ⎛   2      ⎞\n",
       "     ⎜m⋅x       ⎟\n",
       "   a⋅⎜──── + ⅈ⋅t⎟\n",
       "     ⎝ ℏ        ⎠\n",
       "A⋅ℯ              "
      ]
     },
     "execution_count": 5,
     "metadata": {},
     "output_type": "execute_result"
    }
   ],
   "source": [
    "import sympy as sp\n",
    "from sympy.physics.quantum.constants import hbar\n",
    "\n",
    "sp.init_printing()\n",
    "\n",
    "A, a, m = sp.symbols (\"A a m\", real = True, positive = True)\n",
    "x,t = sp.symbols (\"x t\", real = True)\n",
    "\n",
    "Psi = A*sp.exp(a*((m*x**2/hbar)+sp.I*t))\n",
    "Psi"
   ]
  },
  {
   "cell_type": "code",
   "execution_count": 15,
   "metadata": {
    "collapsed": false
   },
   "outputs": [
    {
     "ename": "TypeError",
     "evalue": "'Mul' object is not callable",
     "output_type": "error",
     "traceback": [
      "\u001b[1;31m---------------------------------------------------------------------------\u001b[0m",
      "\u001b[1;31mTypeError\u001b[0m                                 Traceback (most recent call last)",
      "\u001b[1;32m<ipython-input-15-70d0733a573d>\u001b[0m in \u001b[0;36m<module>\u001b[1;34m()\u001b[0m\n\u001b[0;32m      3\u001b[0m \u001b[1;33m\u001b[0m\u001b[0m\n\u001b[0;32m      4\u001b[0m \u001b[1;31m#set normalization condition\u001b[0m\u001b[1;33m\u001b[0m\u001b[1;33m\u001b[0m\u001b[0m\n\u001b[1;32m----> 5\u001b[1;33m \u001b[0mnormalization_condition\u001b[0m \u001b[1;33m=\u001b[0m \u001b[0msp\u001b[0m\u001b[1;33m.\u001b[0m\u001b[0mEq\u001b[0m\u001b[1;33m(\u001b[0m\u001b[1;36m1\u001b[0m\u001b[1;33m,\u001b[0m \u001b[0msp\u001b[0m\u001b[1;33m.\u001b[0m\u001b[0mintegrate\u001b[0m\u001b[1;33m,\u001b[0m \u001b[1;33m(\u001b[0m\u001b[0mPsisq\u001b[0m \u001b[1;33m(\u001b[0m\u001b[0mx\u001b[0m\u001b[1;33m,\u001b[0m \u001b[1;33m-\u001b[0m\u001b[0msp\u001b[0m\u001b[1;33m.\u001b[0m\u001b[0moo\u001b[0m\u001b[1;33m,\u001b[0m \u001b[0msp\u001b[0m\u001b[1;33m.\u001b[0m\u001b[0moo\u001b[0m\u001b[1;33m)\u001b[0m\u001b[1;33m)\u001b[0m\u001b[1;33m)\u001b[0m\u001b[1;33m\u001b[0m\u001b[0m\n\u001b[0m\u001b[0;32m      6\u001b[0m \u001b[1;33m\u001b[0m\u001b[0m\n\u001b[0;32m      7\u001b[0m \u001b[1;31m#solve for A\u001b[0m\u001b[1;33m\u001b[0m\u001b[1;33m\u001b[0m\u001b[0m\n",
      "\u001b[1;31mTypeError\u001b[0m: 'Mul' object is not callable"
     ]
    }
   ],
   "source": [
    "#Psi squares \n",
    "Psisq = Psi*sp.conjugate(Psi)\n",
    "\n",
    "#set normalization condition\n",
    "normalization_condition = sp.Eq(1, sp.integrate, (Psisq (x, -sp.oo, sp.oo)))\n",
    "\n",
    "#solve for A\n",
    "sp.solveset (normalization_condition, A)"
   ]
  }
 ],
 "metadata": {
  "anaconda-cloud": {
   "environment": null,
   "summary": "trying to figure this out",
   "url": "https://anaconda.org/brittanyhassman/untitled"
  },
  "kernelspec": {
   "display_name": "Python [Root]",
   "language": "python",
   "name": "Python [Root]"
  },
  "language_info": {
   "codemirror_mode": {
    "name": "ipython",
    "version": 3
   },
   "file_extension": ".py",
   "mimetype": "text/x-python",
   "name": "python",
   "nbconvert_exporter": "python",
   "pygments_lexer": "ipython3",
   "version": "3.5.2"
  }
 },
 "nbformat": 4,
 "nbformat_minor": 0
}
